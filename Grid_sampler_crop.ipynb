{
 "cells": [
  {
   "cell_type": "code",
   "execution_count": 3,
   "metadata": {},
   "outputs": [],
   "source": [
    "import numpy as np\n",
    "import pandas as pd\n",
    "import cv2\n",
    "import glob\n",
    "import functools\n",
    "import tqdm\n",
    "import PIL\n",
    "import h5py\n",
    "from multiprocess import Pool\n",
    "import matplotlib.pyplot as plt\n",
    "import seaborn as sns\n",
    "from sklearn import datasets\n",
    "import time\n",
    "\n",
    "import torch\n",
    "# import torch.functional as F\n",
    "import torch.nn.functional as F\n",
    "\n",
    "eps = np.finfo(np.float64).eps\n",
    "\n",
    "plt.rcParams['figure.figsize'] = 10, 10\n",
    "%matplotlib inline"
   ]
  },
  {
   "cell_type": "markdown",
   "metadata": {},
   "source": [
    "### Load dataset and build tensor"
   ]
  },
  {
   "cell_type": "code",
   "execution_count": 5,
   "metadata": {},
   "outputs": [],
   "source": [
    "digits = datasets.load_digits()\n",
    "\n",
    "# Only use 1 image to make crop verification easier\n",
    "org_im = digits.images[0]\n",
    "\n",
    "# B, C, H, W = x.shape\n",
    "B = 4800\n",
    "H, W = 32, 32\n",
    "C = 1\n",
    "# Build the testing tensor\n",
    "x = torch.from_numpy(org_im).reshape(1, 1, 8, 8)\n",
    "x = F.interpolate(x, size=(H, W))\n",
    "x = x.repeat(B, C, 1, 1)"
   ]
  },
  {
   "cell_type": "code",
   "execution_count": 5,
   "metadata": {},
   "outputs": [
    {
     "data": {
      "text/plain": [
       "<matplotlib.image.AxesImage at 0x11b8bfe80>"
      ]
     },
     "execution_count": 5,
     "metadata": {},
     "output_type": "execute_result"
    },
    {
     "data": {
      "image/png": "[encoded data removed]",
      "text/plain": [
       "<matplotlib.figure.Figure at 0x11b7a35f8>"
      ]
     },
     "metadata": {},
     "output_type": "display_data"
    }
   ],
   "source": [
    "plt.imshow(x[0].squeeze().numpy())"
   ]
  },
  {
   "cell_type": "markdown",
   "metadata": {},
   "source": [
    "### Using F.grid_sample\n",
    "* https://discuss.pytorch.org/t/cropping-a-minibatch-of-images-each-image-a-bit-differently/12247/5"
   ]
  },
  {
   "cell_type": "code",
   "execution_count": 6,
   "metadata": {},
   "outputs": [
    {
     "data": {
      "text/plain": [
       "torch.Size([4800, 32, 32])"
      ]
     },
     "execution_count": 6,
     "metadata": {},
     "output_type": "execute_result"
    }
   ],
   "source": [
    "x = x.squeeze()\n",
    "x.size()"
   ]
  },
  {
   "cell_type": "code",
   "execution_count": 9,
   "metadata": {},
   "outputs": [
    {
     "name": "stdout",
     "output_type": "stream",
     "text": [
      "repeated grid size: torch.Size([4800, 4, 4, 2])\n",
      "rand_xoff size: torch.Size([4800, 4, 4])\n",
      "Sampled batch size: torch.Size([4800, 32, 4, 4])\n"
     ]
    }
   ],
   "source": [
    "def build_grid(source_size,target_size):\n",
    "    k = float(target_size)/float(source_size)\n",
    "    direct = torch.linspace(0, k, target_size).unsqueeze(0).repeat(target_size,1).unsqueeze(-1)\n",
    "    full = torch.cat([direct,direct.transpose(1,0)],dim=2).unsqueeze(0)\n",
    "    return full.type(torch.DoubleTensor) \n",
    "\n",
    "\n",
    "def random_crop_grid(x, grid):\n",
    "    delta = x.size(2)-grid.size(1)\n",
    "    grid = grid.repeat(x.size(0), 1, 1, 1)\n",
    "    print('repeated grid size: {}'.format(grid.size()))\n",
    "    \n",
    "    #Add random shifts by x and y [4800, 4, 4]\n",
    "    rand_xoff = torch.DoubleTensor(x.size(0)).random_(0, delta).unsqueeze(-1).unsqueeze(-1).expand(-1, grid.size(1), grid.size(2)) /x.size(2)\n",
    "    rand_yoff = torch.DoubleTensor(x.size(0)).random_(0, delta).unsqueeze(-1).unsqueeze(-1).expand(-1, grid.size(1), grid.size(2)) /x.size(2) \n",
    "    print('rand_xoff size: {}'.format(rand_xoff.size()))\n",
    "    \n",
    "    grid[:,:,:,0] = grid[:, :, :, 0] + rand_xoff\n",
    "    grid[:,:,:,1] = grid[:, :, :, 1] + rand_yoff\n",
    "    return grid\n",
    "\n",
    "\n",
    "#We want to crop a 4x4 image randomly for our batch\n",
    "#Building central crop of 4 pixel size \n",
    "grid_source = build_grid(x.size(2), 4)\n",
    "#Make radom shift for each batch\n",
    "grid_shifted = random_crop_grid(x, grid_source)\n",
    "#Sample using grid sample\n",
    "sampled_batch = F.grid_sample(x.unsqueeze(2), grid_shifted)\n",
    "\n",
    "print('Sampled batch size: {}'.format(sampled_batch.size()))"
   ]
  },
  {
   "cell_type": "code",
   "execution_count": null,
   "metadata": {},
   "outputs": [],
   "source": []
  }
 ],
 "metadata": {
  "kernelspec": {
   "display_name": "Python 3",
   "language": "python",
   "name": "python3"
  },
  "language_info": {
   "codemirror_mode": {
    "name": "ipython",
    "version": 3
   },
   "file_extension": ".py",
   "mimetype": "text/x-python",
   "name": "python",
   "nbconvert_exporter": "python",
   "pygments_lexer": "ipython3",
   "version": "3.6.5"
  }
 },
 "nbformat": 4,
 "nbformat_minor": 2
}
